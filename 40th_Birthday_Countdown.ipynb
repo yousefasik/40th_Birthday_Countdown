{
 "cells": [
  {
   "cell_type": "code",
   "execution_count": 1,
   "id": "2ec68cf1",
   "metadata": {},
   "outputs": [
    {
     "name": "stdout",
     "output_type": "stream",
     "text": [
      "40 yaşınıza kadar kalan gün sayısı: 1401 gün\n"
     ]
    }
   ],
   "source": [
    "from datetime import datetime\n",
    "\n",
    "def calculate_days_between_dates(start_date, end_date):\n",
    "    start_datetime = datetime.strptime(start_date, \"%d.%m.%Y\")\n",
    "    end_datetime = datetime.strptime(end_date, \"%d.%m.%Y\")\n",
    "    delta = end_datetime - start_datetime\n",
    "    return delta.days\n",
    "\n",
    "# Bugünkü tarihi alın\n",
    "current_date = datetime.now().strftime(\"%d.%m.%Y\")\n",
    "\n",
    "# Doğum tarihinizi belirtin\n",
    "birth_date = \"31.05.1987\"\n",
    "\n",
    "# Yaşınızı hesaplamak için gün farkını bulun\n",
    "days_difference = calculate_days_between_dates(birth_date, current_date)\n",
    "\n",
    "# 40 yaşın toplam gün sayısını bulun\n",
    "age_in_days = 40 * 365\n",
    "\n",
    "# Yaşınızın kaç gün olduğunu hesaplayın\n",
    "days_to_40_years = age_in_days - days_difference\n",
    "\n",
    "print(f\"40 yaşınıza kadar kalan gün sayısı: {days_to_40_years} gün\")\n"
   ]
  },
  {
   "cell_type": "code",
   "execution_count": null,
   "id": "2d14afb3",
   "metadata": {},
   "outputs": [],
   "source": []
  }
 ],
 "metadata": {
  "kernelspec": {
   "display_name": "Python 3 (ipykernel)",
   "language": "python",
   "name": "python3"
  },
  "language_info": {
   "codemirror_mode": {
    "name": "ipython",
    "version": 3
   },
   "file_extension": ".py",
   "mimetype": "text/x-python",
   "name": "python",
   "nbconvert_exporter": "python",
   "pygments_lexer": "ipython3",
   "version": "3.10.9"
  }
 },
 "nbformat": 4,
 "nbformat_minor": 5
}
